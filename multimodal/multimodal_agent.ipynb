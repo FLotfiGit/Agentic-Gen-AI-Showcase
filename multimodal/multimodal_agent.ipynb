{
 "cells": [
  {
   "cell_type": "markdown",
   "id": "a022013a",
   "metadata": {},
   "source": [
    "# CLIP + LLM Cooperative Reasoning\n",
    "This notebook demonstrates multimodal reasoning by combining CLIP (vision-language) and an LLM (text)."
   ]
  }
 ],
 "metadata": {
  "language_info": {
   "name": "python"
  }
 },
 "nbformat": 4,
 "nbformat_minor": 5
}
