{
 "cells": [
  {
   "cell_type": "markdown",
   "id": "d19d131a",
   "metadata": {},
   "source": [
    "# Text-to-Image Synthesis with Diffusion Models\n",
    "This notebook provides a demo of generating images from text prompts using a diffusion model."
   ]
  },
  {
   "cell_type": "markdown",
   "id": "81efa1f7",
   "metadata": {},
   "source": [
    "# Text-to-Image Synthesis with Diffusers"
   ]
  },
  {
   "cell_type": "code",
   "execution_count": null,
   "id": "f35b4b5a",
   "metadata": {},
   "outputs": [],
   "source": [
    "# Install required packages\n",
    "%pip install diffusers torch transformers accelerate pillow"
   ]
  },
  {
   "cell_type": "code",
   "execution_count": null,
   "id": "c1573e40",
   "metadata": {},
   "outputs": [],
   "source": [
    "import torch, os\n",
    "from diffusers import StableDiffusionPipeline\n",
    "from PIL import Image"
   ]
  },
  {
   "cell_type": "code",
   "execution_count": null,
   "id": "079f7563",
   "metadata": {},
   "outputs": [],
   "source": [
    "# Load model (may require huggingface token)\n",
    "pipe = StableDiffusionPipeline.from_pretrained('runwayml/stable-diffusion-v1-5', torch_dtype=torch.float16)\n",
    "pipe = pipe.to('cuda' if torch.cuda.is_available() else 'cpu')"
   ]
  },
  {
   "cell_type": "code",
   "execution_count": null,
   "id": "82264761",
   "metadata": {},
   "outputs": [],
   "source": [
    "# Generate image from text prompt and save\n",
    "prompt = 'A futuristic AI agent in a digital landscape'\n",
    "image = pipe(prompt).images[0]\n",
    "os.makedirs('./outputs', exist_ok=True)\n",
    "image.save('./outputs/diffusion_output.png')\n",
    "image.show()"
   ]
  },
  {
   "cell_type": "code",
   "execution_count": null,
   "id": "837706cd",
   "metadata": {},
   "outputs": [],
   "source": [
    "# Controls and timestamped save\n",
    "import time\n",
    "pipe.enable_attention_slicing()\n",
    "g = torch.Generator(device=pipe.device).manual_seed(42)\n",
    "os.makedirs('./outputs', exist_ok=True)\n",
    "ts = int(time.time())\n",
    "img = pipe(prompt, generator=g, num_inference_steps=25, guidance_scale=7.5).images[0]\n",
    "out_path = f'./outputs/diffusion_output_{ts}.png'\n",
    "img.save(out_path)\n",
    "print('Saved to', out_path)"
   ]
  }
 ],
 "metadata": {
  "language_info": {
   "name": "python"
  }
 },
 "nbformat": 4,
 "nbformat_minor": 5
}
