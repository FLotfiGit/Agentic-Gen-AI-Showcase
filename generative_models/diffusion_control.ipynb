{
 "cells": [
  {
   "cell_type": "markdown",
   "id": "d19d131a",
   "metadata": {},
   "source": [
    "# Text-to-Image Synthesis with Diffusion Models\n",
    "This notebook provides a demo of generating images from text prompts using a diffusion model."
   ]
  }
 ],
 "metadata": {
  "language_info": {
   "name": "python"
  }
 },
 "nbformat": 4,
 "nbformat_minor": 5
}
