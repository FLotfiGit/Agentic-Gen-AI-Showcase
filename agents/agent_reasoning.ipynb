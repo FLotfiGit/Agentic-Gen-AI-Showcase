{
 "cells": [
  {
   "cell_type": "markdown",
   "id": "022b8960",
   "metadata": {},
   "source": [
    "# Reasoning LLM Agent: Plan-Act-Reflect Loop\n",
    "This notebook demonstrates a simple agentic reasoning loop using a large language model (LLM). The agent plans, acts, and reflects to improve its decisions."
   ]
  },
  {
   "cell_type": "markdown",
   "id": "43f9e442",
   "metadata": {},
   "source": [
    "# LLM Agent: Plan-Act-Reflect Loop"
   ]
  },
  {
   "cell_type": "code",
   "execution_count": null,
   "id": "3f201f61",
   "metadata": {},
   "outputs": [],
   "source": [
    "# Install required packages\n",
    "%pip install openai tiktoken"
   ]
  },
  {
   "cell_type": "code",
   "execution_count": null,
   "id": "f023c9e7",
   "metadata": {},
   "outputs": [],
   "source": [
    "import os, json, time\n",
    "from typing import List\n",
    "import openai\n",
    "\n",
    "openai.api_key = os.getenv('OPENAI_API_KEY', None)\n",
    "assert openai.api_key, 'Set OPENAI_API_KEY in your environment!'"
   ]
  },
  {
   "cell_type": "code",
   "execution_count": null,
   "id": "39f703b9",
   "metadata": {},
   "outputs": [],
   "source": [
    "# Agent with plan-act-reflect loop and short-term memory\n",
    "class ReasoningAgent:\n",
    "    def __init__(self):\n",
    "        self.memory: List[str] = []\n",
    "        self.log_path = './outputs/agent_log.jsonl'\n",
    "        os.makedirs('./outputs', exist_ok=True)\n",
    "\n",
    "    def plan(self, goal):\n",
    "        prompt = f\"Plan steps to achieve: {goal}\"\n",
    "        resp = openai.ChatCompletion.create(model='gpt-3.5-turbo', messages=[{'role':'user','content':prompt}])\n",
    "        plan = resp.choices[0].message.content\n",
    "        self.memory.append(plan)\n",
    "        return plan\n",
    "\n",
    "    def act(self, step):\n",
    "        prompt = f\"Execute step: {step}\"\n",
    "        resp = openai.ChatCompletion.create(model='gpt-3.5-turbo', messages=[{'role':'user','content':prompt}])\n",
    "        action = resp.choices[0].message.content\n",
    "        self.memory.append(action)\n",
    "        return action\n",
    "\n",
    "    def reflect(self):\n",
    "        prompt = f\"Reflect on actions: {self.memory[-2:]}\"\n",
    "        resp = openai.ChatCompletion.create(model='gpt-3.5-turbo', messages=[{'role':'user','content':prompt}])\n",
    "        reflection = resp.choices[0].message.content\n",
    "        self.memory.append(reflection)\n",
    "        return reflection\n",
    "\n",
    "    def log(self, entry):\n",
    "        with open(self.log_path, 'a') as f:\n",
    "            f.write(json.dumps(entry)+'\\n')"
   ]
  },
  {
   "cell_type": "code",
   "execution_count": null,
   "id": "122f7a11",
   "metadata": {},
   "outputs": [],
   "source": [
    "# Run demo\n",
    "agent = ReasoningAgent()\n",
    "goal = 'Write a short poem about AI agents.'\n",
    "plan = agent.plan(goal)\n",
    "action = agent.act(plan)\n",
    "reflection = agent.reflect()\n",
    "agent.log({'goal': goal, 'plan': plan, 'action': action, 'reflection': reflection, 'timestamp': time.time()})\n",
    "print('Plan:', plan)\n",
    "print('Action:', action)\n",
    "print('Reflection:', reflection)"
   ]
  },
  {
   "cell_type": "code",
   "execution_count": null,
   "id": "b2689389",
   "metadata": {},
   "outputs": [],
   "source": [
    "# Continue agent reasoning loop for a new goal\n",
    "new_goal = 'Summarize the benefits of agentic reasoning.'\n",
    "new_plan = agent.plan(new_goal)\n",
    "new_action = agent.act(new_plan)\n",
    "new_reflection = agent.reflect()\n",
    "agent.log({'goal': new_goal, 'plan': new_plan, 'action': new_action, 'reflection': new_reflection, 'timestamp': time.time()})\n",
    "print('Plan:', new_plan)\n",
    "print('Action:', new_action)\n",
    "print('Reflection:', new_reflection)"
   ]
  }
 ],
 "metadata": {
  "language_info": {
   "name": "python"
  }
 },
 "nbformat": 4,
 "nbformat_minor": 5
}
