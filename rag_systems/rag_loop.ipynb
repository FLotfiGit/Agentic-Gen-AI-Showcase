{
 "cells": [
  {
   "cell_type": "markdown",
   "id": "b6348178",
   "metadata": {},
   "source": [
    "# Retrieval-Augmented Generation (RAG) Demo\n",
    "This notebook shows how to combine document retrieval with LLM generation for more informed answers."
   ]
  }
 ],
 "metadata": {
  "language_info": {
   "name": "python"
  }
 },
 "nbformat": 4,
 "nbformat_minor": 5
}
