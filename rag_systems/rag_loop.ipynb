{
 "cells": [
  {
   "cell_type": "markdown",
   "id": "b6348178",
   "metadata": {},
   "source": [
    "# Retrieval-Augmented Generation (RAG) Demo\n",
    "This notebook shows how to combine document retrieval with LLM generation for more informed answers."
   ]
  },
  {
   "cell_type": "markdown",
   "id": "d64802ae",
   "metadata": {},
   "source": [
    "# Retrieval-Augmented Generation (RAG) Demo"
   ]
  },
  {
   "cell_type": "code",
   "execution_count": null,
   "id": "a28b0d37",
   "metadata": {},
   "outputs": [],
   "source": [
    "# Install required packages\n",
    "%pip install faiss-cpu sentence-transformers openai"
   ]
  },
  {
   "cell_type": "code",
   "execution_count": null,
   "id": "1340f499",
   "metadata": {},
   "outputs": [],
   "source": [
    "import os, faiss, numpy as np, json\n",
    "from sentence_transformers import SentenceTransformer\n",
    "import openai\n",
    "\n",
    "openai.api_key = os.getenv('OPENAI_API_KEY', None)\n",
    "assert openai.api_key, 'Set OPENAI_API_KEY in your environment!'"
   ]
  },
  {
   "cell_type": "code",
   "execution_count": null,
   "id": "96909e02",
   "metadata": {},
   "outputs": [],
   "source": [
    "# Toy corpus\n",
    "corpus = [\n",
    "    'AI agents can reason and plan.',\n",
    "    'Generative models create text and images.',\n",
    "    'Retrieval augments LLMs with external knowledge.'\n",
    "]\n",
    "model = SentenceTransformer('all-MiniLM-L6-v2')\n",
    "embeddings = model.encode(corpus)\n",
    "index = faiss.IndexFlatL2(embeddings.shape[1])\n",
    "index.add(np.array(embeddings))"
   ]
  },
  {
   "cell_type": "code",
   "execution_count": null,
   "id": "3bf3394b",
   "metadata": {},
   "outputs": [],
   "source": [
    "# RAG answerer\n",
    "def rag_answer(query):\n",
    "    q_emb = model.encode([query])\n",
    "    D, I = index.search(np.array(q_emb), k=1)\n",
    "    context = corpus[I[0][0]]\n",
    "    prompt = f\"Context: {context}\\nQuestion: {query}\\nAnswer:\"\n",
    "    resp = openai.ChatCompletion.create(model='gpt-3.5-turbo', messages=[{'role':'user','content':prompt}])\n",
    "    answer = resp.choices[0].message.content\n",
    "    return context, answer"
   ]
  },
  {
   "cell_type": "code",
   "execution_count": null,
   "id": "973fd164",
   "metadata": {},
   "outputs": [],
   "source": [
    "# Run demo and save output\n",
    "os.makedirs('./outputs', exist_ok=True)\n",
    "query = 'How do agents use external knowledge?'\n",
    "context, answer = rag_answer(query)\n",
    "with open('./outputs/rag_output.json', 'w') as f:\n",
    "    json.dump({'query': query, 'context': context, 'answer': answer}, f, indent=2)\n",
    "print('Context:', context)\n",
    "print('Answer:', answer)"
   ]
  },
  {
   "cell_type": "code",
   "execution_count": null,
   "id": "36b96aa3",
   "metadata": {},
   "outputs": [],
   "source": [
    "# Retrieve top-3 and show contexts\n",
    "def retrieve_top_k(query, k=3):\n",
    "    q_emb = model.encode([query])\n",
    "    D, I = index.search(np.array(q_emb), k=k)\n",
    "    return [corpus[i] for i in I[0].tolist()]\n",
    "print(retrieve_top_k('What do generative models do?', 3))"
   ]
  },
  {
   "cell_type": "code",
   "execution_count": null,
   "id": "117d080c",
   "metadata": {},
   "outputs": [],
   "source": [
    "# Top-3 retrieval and save output\n",
    "import os, time, json, numpy as np\n",
    "os.makedirs('./outputs', exist_ok=True)\n",
    "def retrieve_top_k(query, k=3):\n",
    "    q_emb = model.encode([query])\n",
    "    D, I = index.search(np.array(q_emb), k=k)\n",
    "    return [corpus[i] for i in I[0].tolist()]\n",
    "query = 'What do generative models do?'\n",
    "top3 = retrieve_top_k(query, 3)\n",
    "out_path = f\"./outputs/rag_top3_{int(time.time())}.json\"\n",
    "with open(out_path, 'w') as f:\n",
    "    json.dump({'query': query, 'top3': top3}, f, indent=2)\n",
    "print('Saved', out_path)"
   ]
  }
 ],
 "metadata": {
  "language_info": {
   "name": "python"
  }
 },
 "nbformat": 4,
 "nbformat_minor": 5
}
